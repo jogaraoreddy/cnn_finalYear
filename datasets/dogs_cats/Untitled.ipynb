{
 "cells": [
  {
   "cell_type": "code",
   "execution_count": 49,
   "id": "19d1a578",
   "metadata": {},
   "outputs": [],
   "source": [
    "import tensorflow as tf\n",
    "import tensorflow.keras as keras"
   ]
  },
  {
   "cell_type": "code",
   "execution_count": 50,
   "id": "de308579",
   "metadata": {},
   "outputs": [],
   "source": [
    "from keras.preprocessing.image import ImageDataGenerator"
   ]
  },
  {
   "cell_type": "code",
   "execution_count": 51,
   "id": "15df100c",
   "metadata": {},
   "outputs": [
    {
     "name": "stdout",
     "output_type": "stream",
     "text": [
      "Found 8000 images belonging to 2 classes.\n"
     ]
    }
   ],
   "source": [
    "train_datagen = ImageDataGenerator(rescale = 1./255,\n",
    "                                   shear_range= 0.2,\n",
    "                                   zoom_range=0.2,\n",
    "                                   horizontal_flip=True)\n",
    "training_set = train_datagen.flow_from_directory('training_set',\n",
    "                                                 target_size=(64,64),\n",
    "                                                 batch_size=32,\n",
    "                                                 class_mode= 'binary'\n",
    "                                                 )"
   ]
  },
  {
   "cell_type": "code",
   "execution_count": 52,
   "id": "6ab406fd",
   "metadata": {},
   "outputs": [
    {
     "name": "stdout",
     "output_type": "stream",
     "text": [
      "Found 2000 images belonging to 2 classes.\n"
     ]
    }
   ],
   "source": [
    "test_datagen = ImageDataGenerator(rescale = 1./255)\n",
    "test_set = test_datagen.flow_from_directory('test_set',\n",
    "                                            target_size=(64,64),\n",
    "                                            batch_size=32,\n",
    "                                            class_mode ='binary')"
   ]
  },
  {
   "cell_type": "code",
   "execution_count": 53,
   "id": "0da7319f",
   "metadata": {},
   "outputs": [],
   "source": [
    "cnn =  tf.keras.models.Sequential()"
   ]
  },
  {
   "cell_type": "code",
   "execution_count": 54,
   "id": "7cd7ef9a",
   "metadata": {},
   "outputs": [],
   "source": [
    "cnn.add(tf.keras.layers.Conv2D(filters = 32,kernel_size=3,activation='relu',input_shape=[64,64,3]))\n",
    "cnn.add(tf.keras.layers.MaxPool2D(pool_size=2,strides=2))"
   ]
  },
  {
   "cell_type": "code",
   "execution_count": 55,
   "id": "a320d040",
   "metadata": {},
   "outputs": [],
   "source": [
    "cnn.add(tf.keras.layers.Conv2D(filters = 32,kernel_size=3,activation='relu'))\n",
    "cnn.add(tf.keras.layers.MaxPool2D(pool_size=2,strides=2))"
   ]
  },
  {
   "cell_type": "code",
   "execution_count": 56,
   "id": "5c57767e",
   "metadata": {},
   "outputs": [],
   "source": [
    "cnn.add(tf.keras.layers.Flatten())"
   ]
  },
  {
   "cell_type": "code",
   "execution_count": 57,
   "id": "b0b82feb",
   "metadata": {},
   "outputs": [],
   "source": [
    "cnn.add(tf.keras.layers.Dense(units=128 , activation='relu'))"
   ]
  },
  {
   "cell_type": "code",
   "execution_count": 58,
   "id": "9bb9e2d6",
   "metadata": {},
   "outputs": [],
   "source": [
    "cnn.add(tf.keras.layers.Dense(units=1 , activation='sigmoid'))"
   ]
  },
  {
   "cell_type": "code",
   "execution_count": 59,
   "id": "214e49b5",
   "metadata": {},
   "outputs": [],
   "source": [
    "cnn.compile(optimizer = 'adam',loss = 'binary_crossentropy' ,metrics = ['accuracy'])"
   ]
  },
  {
   "cell_type": "code",
   "execution_count": 60,
   "id": "6ea0a070",
   "metadata": {},
   "outputs": [
    {
     "name": "stdout",
     "output_type": "stream",
     "text": [
      "Epoch 1/25\n",
      "250/250 [==============================] - 71s 281ms/step - loss: 0.6914 - accuracy: 0.5436 - val_loss: 0.6180 - val_accuracy: 0.6745\n",
      "Epoch 2/25\n",
      "250/250 [==============================] - 37s 147ms/step - loss: 0.6137 - accuracy: 0.6590 - val_loss: 0.5704 - val_accuracy: 0.7135\n",
      "Epoch 3/25\n",
      "250/250 [==============================] - 32s 129ms/step - loss: 0.5730 - accuracy: 0.7025 - val_loss: 0.5597 - val_accuracy: 0.7250\n",
      "Epoch 4/25\n",
      "250/250 [==============================] - 34s 138ms/step - loss: 0.5407 - accuracy: 0.7268 - val_loss: 0.5772 - val_accuracy: 0.7035\n",
      "Epoch 5/25\n",
      "250/250 [==============================] - 41s 163ms/step - loss: 0.5113 - accuracy: 0.7467 - val_loss: 0.4845 - val_accuracy: 0.7660\n",
      "Epoch 6/25\n",
      "250/250 [==============================] - 52s 206ms/step - loss: 0.4974 - accuracy: 0.7590 - val_loss: 0.4909 - val_accuracy: 0.7660\n",
      "Epoch 7/25\n",
      "250/250 [==============================] - 74s 295ms/step - loss: 0.4746 - accuracy: 0.7707 - val_loss: 0.4634 - val_accuracy: 0.7830\n",
      "Epoch 8/25\n",
      "250/250 [==============================] - 71s 283ms/step - loss: 0.4585 - accuracy: 0.7857 - val_loss: 0.4734 - val_accuracy: 0.7850\n",
      "Epoch 9/25\n",
      "250/250 [==============================] - 71s 284ms/step - loss: 0.4538 - accuracy: 0.7826 - val_loss: 0.4651 - val_accuracy: 0.7745\n",
      "Epoch 10/25\n",
      "250/250 [==============================] - 72s 287ms/step - loss: 0.4384 - accuracy: 0.7986 - val_loss: 0.4617 - val_accuracy: 0.7870\n",
      "Epoch 11/25\n",
      "250/250 [==============================] - 66s 262ms/step - loss: 0.4324 - accuracy: 0.7997 - val_loss: 0.4658 - val_accuracy: 0.7835\n",
      "Epoch 12/25\n",
      "250/250 [==============================] - 42s 169ms/step - loss: 0.4154 - accuracy: 0.8064 - val_loss: 0.4639 - val_accuracy: 0.7895\n",
      "Epoch 13/25\n",
      "250/250 [==============================] - 38s 153ms/step - loss: 0.4102 - accuracy: 0.8176 - val_loss: 0.4842 - val_accuracy: 0.7780\n",
      "Epoch 14/25\n",
      "250/250 [==============================] - 40s 159ms/step - loss: 0.4032 - accuracy: 0.8169 - val_loss: 0.4423 - val_accuracy: 0.7970\n",
      "Epoch 15/25\n",
      "250/250 [==============================] - 39s 157ms/step - loss: 0.3874 - accuracy: 0.8232 - val_loss: 0.4727 - val_accuracy: 0.7880\n",
      "Epoch 16/25\n",
      "250/250 [==============================] - 87s 349ms/step - loss: 0.3754 - accuracy: 0.8309 - val_loss: 0.4834 - val_accuracy: 0.7955\n",
      "Epoch 17/25\n",
      "250/250 [==============================] - 85s 337ms/step - loss: 0.3683 - accuracy: 0.8353 - val_loss: 0.4595 - val_accuracy: 0.8040\n",
      "Epoch 18/25\n",
      "250/250 [==============================] - 65s 259ms/step - loss: 0.3593 - accuracy: 0.8393 - val_loss: 0.4490 - val_accuracy: 0.8005\n",
      "Epoch 19/25\n",
      "250/250 [==============================] - 43s 170ms/step - loss: 0.3491 - accuracy: 0.8486 - val_loss: 0.4489 - val_accuracy: 0.7995\n",
      "Epoch 20/25\n",
      "250/250 [==============================] - 45s 179ms/step - loss: 0.3454 - accuracy: 0.8421 - val_loss: 0.4581 - val_accuracy: 0.8040\n",
      "Epoch 21/25\n",
      "250/250 [==============================] - 53s 212ms/step - loss: 0.3371 - accuracy: 0.8486 - val_loss: 0.4490 - val_accuracy: 0.8080\n",
      "Epoch 22/25\n",
      "250/250 [==============================] - 44s 176ms/step - loss: 0.3310 - accuracy: 0.8522 - val_loss: 0.4841 - val_accuracy: 0.7875\n",
      "Epoch 23/25\n",
      "250/250 [==============================] - 85s 340ms/step - loss: 0.3162 - accuracy: 0.8614 - val_loss: 0.4792 - val_accuracy: 0.7980\n",
      "Epoch 24/25\n",
      "250/250 [==============================] - 94s 376ms/step - loss: 0.3150 - accuracy: 0.8651 - val_loss: 0.5132 - val_accuracy: 0.7960\n",
      "Epoch 25/25\n",
      "250/250 [==============================] - 77s 307ms/step - loss: 0.3077 - accuracy: 0.8639 - val_loss: 0.5188 - val_accuracy: 0.7935\n"
     ]
    },
    {
     "data": {
      "text/plain": [
       "<keras.src.callbacks.History at 0x1e8b5c9bad0>"
      ]
     },
     "execution_count": 60,
     "metadata": {},
     "output_type": "execute_result"
    }
   ],
   "source": [
    "cnn.fit(x = training_set , validation_data = test_set , epochs= 25)"
   ]
  },
  {
   "cell_type": "code",
   "execution_count": 70,
   "id": "fb2ac982",
   "metadata": {},
   "outputs": [
    {
     "name": "stdout",
     "output_type": "stream",
     "text": [
      "1/1 [==============================] - 0s 35ms/step\n"
     ]
    }
   ],
   "source": [
    "import numpy as np\n",
    "from keras.preprocessing import image\n",
    "test_image = image.load_img('single_prediction/cat_dog.jpg',target_size= (64,64))\n",
    "test_image = image.img_to_array(test_image)\n",
    "test_image = np.expand_dims(test_image , axis =0)\n",
    "result = cnn.predict(test_image)\n",
    "training_set.class_indices \n",
    "if result[0][0] == 1:\n",
    "    prediction ='dog'\n",
    "else:\n",
    "    prediction = 'cat'\n"
   ]
  },
  {
   "cell_type": "code",
   "execution_count": 74,
   "id": "3de9c606",
   "metadata": {},
   "outputs": [
    {
     "name": "stdout",
     "output_type": "stream",
     "text": [
      "dog\n"
     ]
    }
   ],
   "source": [
    "print(prediction)"
   ]
  },
  {
   "cell_type": "code",
   "execution_count": 75,
   "id": "43d3a54e",
   "metadata": {},
   "outputs": [
    {
     "name": "stdout",
     "output_type": "stream",
     "text": [
      "1/1 [==============================] - 0s 26ms/step\n"
     ]
    }
   ],
   "source": [
    "import numpy as np\n",
    "from keras.preprocessing import image\n",
    "test_image = image.load_img('single_prediction/cat_dog2.jpg',target_size= (64,64))\n",
    "test_image = image.img_to_array(test_image)\n",
    "test_image = np.expand_dims(test_image , axis =0)\n",
    "result = cnn.predict(test_image)\n",
    "training_set.class_indices \n",
    "if result[0][0] == 1:\n",
    "    prediction ='dog'\n",
    "else:\n",
    "    prediction = 'cat'\n"
   ]
  },
  {
   "cell_type": "code",
   "execution_count": 76,
   "id": "13fe21d3",
   "metadata": {},
   "outputs": [
    {
     "name": "stdout",
     "output_type": "stream",
     "text": [
      "dog\n",
      "[[1.]]\n"
     ]
    }
   ],
   "source": [
    "print(prediction)\n",
    "print(result)"
   ]
  },
  {
   "cell_type": "code",
   "execution_count": 82,
   "id": "e3642228",
   "metadata": {},
   "outputs": [
    {
     "name": "stdout",
     "output_type": "stream",
     "text": [
      "1/1 [==============================] - 0s 53ms/step\n"
     ]
    }
   ],
   "source": [
    "import numpy as np\n",
    "from keras.preprocessing import image\n",
    "test_image = image.load_img('single_prediction/cat_dog2.jpg',target_size= (64,64))\n",
    "test_image = image.img_to_array(test_image)\n",
    "test_image = np.expand_dims(test_image , axis =0)\n",
    "result = cnn.predict(test_image)\n",
    "training_set.class_indices \n",
    "if result[0][0] == 1:\n",
    "    prediction ='dog'\n",
    "else:\n",
    "    prediction = 'cat'\n"
   ]
  },
  {
   "cell_type": "code",
   "execution_count": 83,
   "id": "7127583a",
   "metadata": {},
   "outputs": [
    {
     "name": "stdout",
     "output_type": "stream",
     "text": [
      "[[1.]]\n"
     ]
    }
   ],
   "source": [
    "print(result)"
   ]
  },
  {
   "cell_type": "code",
   "execution_count": 84,
   "id": "bf3ea9f5",
   "metadata": {},
   "outputs": [
    {
     "name": "stdout",
     "output_type": "stream",
     "text": [
      "dog\n"
     ]
    }
   ],
   "source": [
    "print(prediction)"
   ]
  }
 ],
 "metadata": {
  "kernelspec": {
   "display_name": "Python 3",
   "language": "python",
   "name": "python3"
  },
  "language_info": {
   "codemirror_mode": {
    "name": "ipython",
    "version": 3
   },
   "file_extension": ".py",
   "mimetype": "text/x-python",
   "name": "python",
   "nbconvert_exporter": "python",
   "pygments_lexer": "ipython3",
   "version": "3.11.5"
  }
 },
 "nbformat": 4,
 "nbformat_minor": 5
}
